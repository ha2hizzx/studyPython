{
 "cells": [
  {
   "cell_type": "markdown",
   "id": "521c67af",
   "metadata": {},
   "source": [
    "<h1>클래스</h1>"
   ]
  },
  {
   "cell_type": "code",
   "execution_count": 11,
   "id": "21e976e3",
   "metadata": {},
   "outputs": [],
   "source": [
    "class champ:\n",
    "    def __init__(self, champname, champdamage, champkill): #__init__은 생성자이다.\n",
    "        self.champname = champname #self.은 멤버변수라고 하며 클레스 내에서 정의된 별수를 말한다.\n",
    "        self.champdamage = champdamage #self는 자기 자신을 뜻함.\n",
    "        self.champkill = champkill\n",
    "        print(\"{0}가 소환사의 협곡에 나타났습니다.\".format(self.champname))\n",
    "        if champdamage > 100:\n",
    "            print(\"적을 처치했습니다.\")\n",
    "            print(\"{0}번째 킬 달성\".format(self.champkill + 1))\n",
    "        else:\n",
    "            print(\"적을 처치하지 못했습니다.\")\n",
    "            print(\"{0}번째 킬 달성\".format(self.champkill))"
   ]
  },
  {
   "cell_type": "code",
   "execution_count": 14,
   "id": "f0c51573",
   "metadata": {},
   "outputs": [
    {
     "name": "stdout",
     "output_type": "stream",
     "text": [
      "에코가 소환사의 협곡에 나타났습니다.\n",
      "적을 처치했습니다.\n",
      "10번째 킬 달성\n"
     ]
    }
   ],
   "source": [
    "eco = champ(\"에코\", 120, 9) #init함주에 정의된 self를 제외한 개수만큼 값을 줘야 객체가 생성될수있다."
   ]
  },
  {
   "cell_type": "code",
   "execution_count": 13,
   "id": "b7d8e623",
   "metadata": {
    "scrolled": true
   },
   "outputs": [
    {
     "name": "stdout",
     "output_type": "stream",
     "text": [
      "조이가 소환사의 협곡에 나타났습니다.\n",
      "적을 처치하지 못했습니다.\n",
      "3번째 킬 달성\n",
      "당신의 현재 챔피언의 이름은 조이이다. 이 챔피언은 70만큼의 공격력을 가지고 있으며 현재 3만큼의 킬을 하고있다.\n"
     ]
    }
   ],
   "source": [
    "#외부에서 멤버변수 사용\n",
    "joy = champ(\"조이\", 70, 3)\n",
    "print(\"당신의 현재 챔피언의 이름은 {0}이다. 이 챔피언은 {1}만큼의 공격력을 가지고 있으며 현재 {2}만큼의 킬을 하고있다.\".format(joy.champname, joy.champdamage, joy.champkill))\n",
    "#클래스 외부에서 작성한 부분과 내부에서 작성한 부분이 둘다 출력이 된다."
   ]
  },
  {
   "cell_type": "code",
   "execution_count": 17,
   "id": "71cf4c0f",
   "metadata": {},
   "outputs": [
    {
     "name": "stdout",
     "output_type": "stream",
     "text": [
      "클레드가 소환사의 협곡에 나타났습니다.\n",
      "적을 처치했습니다.\n",
      "6번째 킬 달성\n",
      "띠이이이잉~\n"
     ]
    }
   ],
   "source": [
    "#변수확장\n",
    "Kled = champ(\"클레드\", 150, 5)\n",
    "Kled.Stopwatch = True #변수를 선언한 대상에만 적용됨\n",
    "if Kled.Stopwatch == True:\n",
    "    print(\"띠이이이잉~\")"
   ]
  },
  {
   "cell_type": "code",
   "execution_count": 39,
   "id": "8b29317f",
   "metadata": {},
   "outputs": [],
   "source": [
    "#메소드 \n",
    "class top(champ): #champ클레스를 상속받았다. (자식클레스, Unit은 부모클레스이다.)\n",
    "    def __init__(self, champname, champdamage, champkill):\n",
    "        champ.__init__(self, champname, champdamage, champkill)\n",
    "        \n",
    "    def attack(self, damages):\n",
    "        print(\"{0}가 포탑을 {1}데미지로 파괴하였습니다.\".format(self.champname, damages))"
   ]
  },
  {
   "cell_type": "code",
   "execution_count": 41,
   "id": "5ea27a50",
   "metadata": {},
   "outputs": [
    {
     "name": "stdout",
     "output_type": "stream",
     "text": [
      "자크가 소환사의 협곡에 나타났습니다.\n",
      "적을 처치하지 못했습니다.\n",
      "5번째 킬 달성\n",
      "자크가 포탑을 80데미지로 파괴하였습니다.\n"
     ]
    }
   ],
   "source": [
    "zac = top(\"자크\", 50, 5)\n",
    "zac.attack (80)"
   ]
  },
  {
   "cell_type": "code",
   "execution_count": null,
   "id": "cdb8ce44",
   "metadata": {},
   "outputs": [],
   "source": [
    "#메소드 오버라이딩\n",
    "#메소드를 새롭게 정의하여 사용하는것"
   ]
  }
 ],
 "metadata": {
  "kernelspec": {
   "display_name": "Python 3 (ipykernel)",
   "language": "python",
   "name": "python3"
  },
  "language_info": {
   "codemirror_mode": {
    "name": "ipython",
    "version": 3
   },
   "file_extension": ".py",
   "mimetype": "text/x-python",
   "name": "python",
   "nbconvert_exporter": "python",
   "pygments_lexer": "ipython3",
   "version": "3.10.9"
  }
 },
 "nbformat": 4,
 "nbformat_minor": 5
}
