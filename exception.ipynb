{
 "cells": [
  {
   "cell_type": "markdown",
   "id": "917796c0",
   "metadata": {},
   "source": [
    "<h1>예외처리</h1>"
   ]
  },
  {
   "cell_type": "code",
   "execution_count": 1,
   "id": "81cf9e53",
   "metadata": {},
   "outputs": [
    {
     "name": "stdout",
     "output_type": "stream",
     "text": [
      "숫자를 입력하세요6\n",
      "숫자를 입력하세요6\n",
      "6 + 6 = 12\n"
     ]
    }
   ],
   "source": [
    "try:\n",
    "    a = int(input(\"숫자를 입력하세요\"))\n",
    "    b = int(input(\"숫자를 입력하세요\"))\n",
    "    print(\"{0} + {1} = {2}\".format(a, b, (a + b)))\n",
    "except ValueError:\n",
    "    print(\"에러가 발생했습니다 숫자를 입력해야 합니다.\")"
   ]
  },
  {
   "cell_type": "code",
   "execution_count": 2,
   "id": "e64936df",
   "metadata": {},
   "outputs": [
    {
     "name": "stdout",
     "output_type": "stream",
     "text": [
      "숫자를 입력하세요6\n",
      "숫자를 입력하세요오\n",
      "에러가 발생했습니다 숫자를 입력해야 합니다.\n"
     ]
    }
   ],
   "source": [
    "#try의 밑에있는 문장을 시행하다가 문제가 발생했을시 except의 문장을 시행한다.\n",
    "try: \n",
    "    a = int(input(\"숫자를 입력하세요\"))\n",
    "    b = int(input(\"숫자를 입력하세요\"))\n",
    "    print(\"{0} + {1} = {2}\".format(a, b, (a + b)))\n",
    "except ValueError:\n",
    "    print(\"에러가 발생했습니다 숫자를 입력해야 합니다.\")"
   ]
  },
  {
   "cell_type": "code",
   "execution_count": 3,
   "id": "89bde44f",
   "metadata": {},
   "outputs": [
    {
     "name": "stdout",
     "output_type": "stream",
     "text": [
      "숫자를 입력하세요6\n",
      "숫자를 입력하세요0\n",
      "division by zero\n"
     ]
    }
   ],
   "source": [
    "try: \n",
    "    a = int(input(\"숫자를 입력하세요\"))\n",
    "    b = int(input(\"숫자를 입력하세요\"))\n",
    "    print(\"{0} / {1} = {2}\".format(a, b, int(a / b)))\n",
    "except ZeroDivisionError as err:\n",
    "    print(err) #에러 문장을 출력"
   ]
  },
  {
   "cell_type": "code",
   "execution_count": 4,
   "id": "d07abd22",
   "metadata": {
    "scrolled": true
   },
   "outputs": [
    {
     "name": "stdout",
     "output_type": "stream",
     "text": [
      "숫자를 입력하세요6\n",
      "숫자를 입력하세요6\n",
      "알수없는 에러\n",
      "list index out of range\n"
     ]
    }
   ],
   "source": [
    "try: \n",
    "    a = []\n",
    "    a.append(int(input(\"숫자를 입력하세요\")))\n",
    "    a.append(int(input(\"숫자를 입력하세요\")))\n",
    "    print(\"{0} / {1} = {2}\".format(a[0], a[1], a[2]))\n",
    "except ValueError:\n",
    "    print(\"에러가 발생했습니다 숫자를 입력해야 합니다.\")\n",
    "except ZeroDivisionError as err:\n",
    "    print(err)\n",
    "except Exception as err:\n",
    "    print(\"알수없는 에러\")\n",
    "    print(err) #위의 에러사항에 들어가지 않을때 실행"
   ]
  }
 ],
 "metadata": {
  "kernelspec": {
   "display_name": "Python 3 (ipykernel)",
   "language": "python",
   "name": "python3"
  },
  "language_info": {
   "codemirror_mode": {
    "name": "ipython",
    "version": 3
   },
   "file_extension": ".py",
   "mimetype": "text/x-python",
   "name": "python",
   "nbconvert_exporter": "python",
   "pygments_lexer": "ipython3",
   "version": "3.10.9"
  }
 },
 "nbformat": 4,
 "nbformat_minor": 5
}
