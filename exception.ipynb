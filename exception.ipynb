{
 "cells": [
  {
   "attachments": {},
   "cell_type": "markdown",
   "id": "917796c0",
   "metadata": {},
   "source": [
    "<h1>예외처리</h1>"
   ]
  },
  {
   "cell_type": "code",
   "execution_count": 1,
   "id": "81cf9e53",
   "metadata": {},
   "outputs": [
    {
     "name": "stdout",
     "output_type": "stream",
     "text": [
      "5 + 5 = 10\n"
     ]
    }
   ],
   "source": [
    "try:\n",
    "    a = int(input(\"숫자를 입력하세요\"))\n",
    "    b = int(input(\"숫자를 입력하세요\"))\n",
    "    print(\"{0} + {1} = {2}\".format(a, b, (a + b)))\n",
    "except ValueError:\n",
    "    print(\"에러가 발생했습니다 숫자를 입력해야 합니다.\")"
   ]
  },
  {
   "cell_type": "code",
   "execution_count": 2,
   "id": "e64936df",
   "metadata": {},
   "outputs": [
    {
     "name": "stdout",
     "output_type": "stream",
     "text": [
      "에러가 발생했습니다 숫자를 입력해야 합니다.\n"
     ]
    }
   ],
   "source": [
    "#try의 밑에있는 문장을 시행하다가 문제가 발생했을시 except의 문장을 시행한다.\n",
    "try: \n",
    "    a = int(input(\"숫자를 입력하세요\"))\n",
    "    b = int(input(\"숫자를 입력하세요\"))\n",
    "    print(\"{0} + {1} = {2}\".format(a, b, (a + b)))\n",
    "except ValueError:\n",
    "    print(\"에러가 발생했습니다 숫자를 입력해야 합니다.\")"
   ]
  },
  {
   "cell_type": "code",
   "execution_count": 3,
   "id": "89bde44f",
   "metadata": {},
   "outputs": [
    {
     "name": "stdout",
     "output_type": "stream",
     "text": [
      "6 / 6 = 1\n"
     ]
    }
   ],
   "source": [
    "try: \n",
    "    a = int(input(\"숫자를 입력하세요\"))\n",
    "    b = int(input(\"숫자를 입력하세요\"))\n",
    "    print(\"{0} / {1} = {2}\".format(a, b, int(a / b)))\n",
    "except ZeroDivisionError as err:\n",
    "    print(err) #에러 문장을 출력"
   ]
  },
  {
   "cell_type": "code",
   "execution_count": 4,
   "id": "d07abd22",
   "metadata": {
    "scrolled": true
   },
   "outputs": [
    {
     "name": "stdout",
     "output_type": "stream",
     "text": [
      "알수없는 에러\n",
      "list index out of range\n"
     ]
    }
   ],
   "source": [
    "try: \n",
    "    a = []\n",
    "    a.append(int(input(\"숫자를 입력하세요\")))\n",
    "    a.append(int(input(\"숫자를 입력하세요\")))\n",
    "    print(\"{0} / {1} = {2}\".format(a[0], a[1], a[2]))\n",
    "except ValueError:\n",
    "    print(\"에러가 발생했습니다 숫자를 입력해야 합니다.\")\n",
    "except ZeroDivisionError as err:\n",
    "    print(err)\n",
    "except Exception as err:\n",
    "    print(\"알수없는 에러\")\n",
    "    print(err) #위의 에러사항에 들어가지 않을때 실행"
   ]
  },
  {
   "attachments": {},
   "cell_type": "markdown",
   "id": "6f75401c",
   "metadata": {},
   "source": [
    "<h1>에러 발생 시키기</h1>"
   ]
  },
  {
   "cell_type": "code",
   "execution_count": 5,
   "id": "a68f0345",
   "metadata": {},
   "outputs": [
    {
     "name": "stdout",
     "output_type": "stream",
     "text": [
      "나누기 계산기입니다 한자리 숫자만 입력해 주세요\n",
      "1 / 10=0.1\n",
      "한자리 숫자만 입력해주세요\n"
     ]
    }
   ],
   "source": [
    "try:\n",
    "    print(\"나누기 계산기입니다 한자리 숫자만 입력해 주세요\")\n",
    "    a = int(input(\"한자리 숫자를 입력해주세요\"))\n",
    "    b = int(input(\"한자리 숫자를 입력해주세요\"))\n",
    "    print(\"{0} / {1}={2}\".format(a,b,a/b))\n",
    "    if a >= 10 or b >= 10:\n",
    "        raise ValueError #의도적으로 에러를 발생시킬수 있다.\n",
    "except ValueError:\n",
    "    print(\"한자리 숫자만 입력해주세요\")"
   ]
  },
  {
   "cell_type": "code",
   "execution_count": 6,
   "id": "84280a86",
   "metadata": {},
   "outputs": [
    {
     "name": "stdout",
     "output_type": "stream",
     "text": [
      "나누기 계산기입니다 한자리 숫자만 입력해 주세요\n",
      "1 / 10=0.1\n",
      "한자리 숫자만 입력해주세요\n"
     ]
    }
   ],
   "source": [
    "class Number_Error(Exception): #클레스로 에러 지정\n",
    "    pass\n",
    "try:\n",
    "    print(\"나누기 계산기입니다 한자리 숫자만 입력해 주세요\")\n",
    "    a = int(input(\"한자리 숫자를 입력해주세요\"))\n",
    "    b = int(input(\"한자리 숫자를 입력해주세요\"))\n",
    "    print(\"{0} / {1}={2}\".format(a,b,a/b))\n",
    "    if a >= 10 or b >= 10:\n",
    "        raise Number_Error #의도적으로 에러를 발생시킬수 있다.\n",
    "except Number_Error: #사용자가 정의한 에러 실행시키기\n",
    "    print(\"한자리 숫자만 입력해주세요\")"
   ]
  },
  {
   "cell_type": "code",
   "execution_count": 7,
   "id": "08c02d82",
   "metadata": {},
   "outputs": [
    {
     "name": "stdout",
     "output_type": "stream",
     "text": [
      "나누기 계산기입니다 한자리 숫자만 입력해 주세요\n",
      "1 / 10=0.1\n",
      "한자리 숫자만 입력해주세요\n",
      "1 입력값 10\n"
     ]
    }
   ],
   "source": [
    "class Number_Error(Exception): #클레스로 에러 지정\n",
    "    def __init__(self, masage):\n",
    "        self.masage = masage\n",
    "    def __str__(self):\n",
    "        return self.masage #클레스에서 메세지를 받으면 메세지를 반환해준다.\n",
    "try:\n",
    "    print(\"나누기 계산기입니다 한자리 숫자만 입력해 주세요\")\n",
    "    a = int(input(\"한자리 숫자를 입력해주세요\"))\n",
    "    b = int(input(\"한자리 숫자를 입력해주세요\"))\n",
    "    print(\"{0} / {1}={2}\".format(a,b,a/b))\n",
    "    if a >= 10 or b >= 10:\n",
    "        raise Number_Error (\"{0} 입력값 {1}\".format(a, b))#의도적으로 에러를 발생시킬수 있다.\n",
    "except Number_Error as err: #사용자가 정의한 에러 실행시키기\n",
    "    print(\"한자리 숫자만 입력해주세요\")\n",
    "    print(err)"
   ]
  }
 ],
 "metadata": {
  "kernelspec": {
   "display_name": "Python 3 (ipykernel)",
   "language": "python",
   "name": "python3"
  },
  "language_info": {
   "codemirror_mode": {
    "name": "ipython",
    "version": 3
   },
   "file_extension": ".py",
   "mimetype": "text/x-python",
   "name": "python",
   "nbconvert_exporter": "python",
   "pygments_lexer": "ipython3",
   "version": "3.11.3"
  }
 },
 "nbformat": 4,
 "nbformat_minor": 5
}
