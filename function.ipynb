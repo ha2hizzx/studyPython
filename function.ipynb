{
 "cells": [
  {
   "attachments": {},
   "cell_type": "markdown",
   "id": "c59951c1",
   "metadata": {},
   "source": [
    "<h1>python함수</h1>\n",
    "    <p>함수란 입력값을 가지고 어떤 일을 수행한뒤 결과물을 내놓는 일을 하는 것을 말한다.</p>"
   ]
  },
  {
   "cell_type": "code",
   "execution_count": 1,
   "id": "9acbaca4",
   "metadata": {
    "scrolled": true
   },
   "outputs": [
    {
     "name": "stdout",
     "output_type": "stream",
     "text": [
      "12\n"
     ]
    }
   ],
   "source": [
    "#함수의 구조\n",
    "def sum(a,  b): #sum이라는 함수가 2개의 값을 받으면 return(출력값)은 그 두개의 값을 합한 값이다.\n",
    "    return a+b #return은 함수의 결괏값을 돌려주는 명령어이다.\n",
    "\n",
    "print(sum(4, 8)) # sum이라는 변수에 4와 8이라는 값이 들어가 결괏값으로 두 값을 더한 값인 12가 나온다.\n",
    "#이때 a, b는 매개변수고 3, 4는 인수이다."
   ]
  },
  {
   "cell_type": "code",
   "execution_count": 2,
   "id": "892b1f9a",
   "metadata": {},
   "outputs": [
    {
     "name": "stdout",
     "output_type": "stream",
     "text": [
      "8\n"
     ]
    }
   ],
   "source": [
    "#매개변수란 함수에 입력으로 전달된 값을 받는 변수를 의미하고 인수는 함수를 호출할때 전달하는 입력값을 의미한다.\n",
    "def sub(a, b): #a와 b는 매개변수\n",
    "    return a - b\n",
    "print(sub(10, 2)) #10과 2는 인수"
   ]
  },
  {
   "cell_type": "code",
   "execution_count": 3,
   "id": "50929f46",
   "metadata": {},
   "outputs": [
    {
     "name": "stdout",
     "output_type": "stream",
     "text": [
      "20\n"
     ]
    }
   ],
   "source": [
    "def a(a, b): #a와 b는 매개변수\n",
    "    return a * b\n",
    "print(a(10, 2)) #10과 2는 인수"
   ]
  },
  {
   "cell_type": "code",
   "execution_count": 4,
   "id": "e9aabe20",
   "metadata": {},
   "outputs": [
    {
     "name": "stdout",
     "output_type": "stream",
     "text": [
      "Hello python\n",
      "Hello python\n"
     ]
    }
   ],
   "source": [
    "#입력값이 없는 함수\n",
    "def fun():\n",
    "    return 'Hello python'\n",
    "print(fun())\n",
    "\n",
    "a = fun()\n",
    "print(a)\n",
    "#위와 같은 함수를 쓰기 위해서는 괄호안에 아무 값도 넣지 않아야 한다. (입력값은 없지만 리턴 값인 'Hello python'을 실행하기 위해)\n"
   ]
  },
  {
   "cell_type": "code",
   "execution_count": 5,
   "id": "e9d628a4",
   "metadata": {},
   "outputs": [
    {
     "name": "stdout",
     "output_type": "stream",
     "text": [
      "Hello python\n",
      "Hello python\n",
      "Hello python\n",
      "Hello python\n",
      "Hello python\n",
      "Hello python\n"
     ]
    }
   ],
   "source": [
    "def fun():\n",
    "    return 'Hello python'\n",
    "print(fun())\n",
    "\n",
    "a = fun()\n",
    "print(a)\n",
    "print(a)\n",
    "print(a)\n",
    "print(a)\n",
    "print(a)"
   ]
  },
  {
   "cell_type": "code",
   "execution_count": 6,
   "id": "878bcc0e",
   "metadata": {},
   "outputs": [
    {
     "name": "stdout",
     "output_type": "stream",
     "text": [
      "3 + 5 = 8\n",
      "hello\n"
     ]
    }
   ],
   "source": [
    "#리턴값이 없는 함수\n",
    "def sum(a, b):\n",
    "    print(\"%d + %d = %d\"%(a,b,a+b))\n",
    "#return함수가 없어 리턴값은 없지만 수행할 문장에 해당되는 print()로 문장을 출력할수 있다.\n",
    "sum(3, 5)\n",
    "#입력값과 리턴값이 없다면\n",
    "def say():\n",
    "    print('hello')\n",
    "say() # 입력값도 리턴값도 없다."
   ]
  },
  {
   "cell_type": "code",
   "execution_count": 7,
   "id": "c192f97a",
   "metadata": {},
   "outputs": [
    {
     "name": "stdout",
     "output_type": "stream",
     "text": [
      "8\n"
     ]
    }
   ],
   "source": [
    "#매개변수 지정후 호출\n",
    "def sum(a,b):\n",
    "    return a + b\n",
    "\n",
    "num = sum(a=3, b=5)\n",
    "print(num)"
   ]
  },
  {
   "cell_type": "code",
   "execution_count": 8,
   "id": "fbe62deb",
   "metadata": {
    "scrolled": true
   },
   "outputs": [
    {
     "data": {
      "text/plain": [
       "21"
      ]
     },
     "execution_count": 8,
     "metadata": {},
     "output_type": "execute_result"
    }
   ],
   "source": [
    "#입력값이 몇개가 될지 모를 때\n",
    "def a(*num):\n",
    "    r = 0\n",
    "    for i in num: #a()안에 들어가는 수 만큼 반복한다.\n",
    "        r = r + i\n",
    "    return r\n",
    "\n",
    "a(1, 2, 3, 4, 5, 6)"
   ]
  },
  {
   "cell_type": "code",
   "execution_count": 9,
   "id": "d5ccf083",
   "metadata": {},
   "outputs": [],
   "source": [
    "#키워드 매개변수\n",
    "# 키워드 매개변수는 매개변수 앞에 (**)을 붙인다.\n",
    "def print_kwa(**kwa):\n",
    "    print(kwa)"
   ]
  },
  {
   "cell_type": "code",
   "execution_count": 10,
   "id": "c5ff42be",
   "metadata": {},
   "outputs": [
    {
     "name": "stdout",
     "output_type": "stream",
     "text": [
      "나의 이름은 김동현 입니다.\n",
      "나이는 17살입니다.\n",
      "남자입니다\n"
     ]
    }
   ],
   "source": [
    "#매개변수에 초깃값을 미리 설정하기\n",
    "def say_myself(name, age, man=True):\n",
    "    print(\"나의 이름은 %s 입니다.\" %name)\n",
    "    print(\"나이는 %d살입니다.\" %age)\n",
    "    if man:\n",
    "        print(\"남자입니다\")\n",
    "    else:\n",
    "        print(\"여자입니다\")\n",
    "#위 함수의 man=True처럼 매개변수에 미리 값을 넣을수도 있다.\n",
    "say_myself('김동현', 17)"
   ]
  }
 ],
 "metadata": {
  "kernelspec": {
   "display_name": "Python 3 (ipykernel)",
   "language": "python",
   "name": "python3"
  },
  "language_info": {
   "codemirror_mode": {
    "name": "ipython",
    "version": 3
   },
   "file_extension": ".py",
   "mimetype": "text/x-python",
   "name": "python",
   "nbconvert_exporter": "python",
   "pygments_lexer": "ipython3",
   "version": "3.11.3"
  }
 },
 "nbformat": 4,
 "nbformat_minor": 5
}
