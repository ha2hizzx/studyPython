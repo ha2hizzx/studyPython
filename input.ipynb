{
 "cells": [
  {
   "attachments": {},
   "cell_type": "markdown",
   "id": "1b6b0a80",
   "metadata": {},
   "source": [
    "<h1>사용자 입출력</h1>"
   ]
  },
  {
   "attachments": {},
   "cell_type": "markdown",
   "id": "e1545182",
   "metadata": {},
   "source": [
    "<h3>input의 사용</h3>"
   ]
  },
  {
   "cell_type": "code",
   "execution_count": null,
   "id": "5ad4d395",
   "metadata": {
    "scrolled": false
   },
   "outputs": [
    {
     "name": "stdout",
     "output_type": "stream",
     "text": [
      "helo\n",
      "helo\n"
     ]
    }
   ],
   "source": [
    "a = input()\n",
    "print(a)"
   ]
  },
  {
   "cell_type": "code",
   "execution_count": null,
   "id": "11ce6517",
   "metadata": {},
   "outputs": [
    {
     "name": "stdout",
     "output_type": "stream",
     "text": [
      "나이를 입력해 주세요! : 17\n",
      "당신의 나이는 17살입니다.\n"
     ]
    }
   ],
   "source": [
    "#프롬포트 띄워서 입력 받기\n",
    "age = input(\"나이를 입력해 주세요! : \")\n",
    "print(\"당신의 나이는 %s살입니다.\" %age)"
   ]
  },
  {
   "cell_type": "code",
   "execution_count": null,
   "id": "f6fc71eb",
   "metadata": {},
   "outputs": [
    {
     "name": "stdout",
     "output_type": "stream",
     "text": [
      "python\n",
      "python best\n"
     ]
    }
   ],
   "source": [
    "print(\"py\"+ \"th\" + \"on\") #(\"\")로 둘러쌓인 물자열은 + 연산과 동일하다\n",
    "print(\"python\", \"best\") #띄어쓰기는 콤마(,)로 한다."
   ]
  },
  {
   "cell_type": "code",
   "execution_count": null,
   "id": "9e613433",
   "metadata": {},
   "outputs": [
    {
     "name": "stdout",
     "output_type": "stream",
     "text": [
      "0 1 2 3 4 5 6 7 8 9 0\n",
      "1\n",
      "2\n",
      "3\n",
      "4\n",
      "5\n",
      "6\n",
      "7\n",
      "8\n",
      "9\n"
     ]
    }
   ],
   "source": [
    "#한줄에 출력\n",
    "for i in range(10):\n",
    "    print(i, end=' ') #출력한뒤 띄어쓰기를 함\n",
    "#줄바꿈\n",
    "for i in range(10):\n",
    "    print(i, end='\\n') #출력하고 줄바꿈을 함\n",
    "#입력받은 문자 10번 출력하기\n",
    "a = input()\n",
    "for i in range(10):\n",
    "    print(a, end='\\n')"
   ]
  },
  {
   "cell_type": "code",
   "execution_count": null,
   "id": "b1297484",
   "metadata": {},
   "outputs": [],
   "source": []
  }
 ],
 "metadata": {
  "kernelspec": {
   "display_name": "Python 3 (ipykernel)",
   "language": "python",
   "name": "python3"
  },
  "language_info": {
   "codemirror_mode": {
    "name": "ipython",
    "version": 3
   },
   "file_extension": ".py",
   "mimetype": "text/x-python",
   "name": "python",
   "nbconvert_exporter": "python",
   "pygments_lexer": "ipython3",
   "version": "3.10.9"
  }
 },
 "nbformat": 4,
 "nbformat_minor": 5
}
