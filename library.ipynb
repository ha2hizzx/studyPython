{
 "cells": [
  {
   "attachments": {},
   "cell_type": "markdown",
   "id": "7aadbde8",
   "metadata": {},
   "source": [
    "# 라이브러리"
   ]
  },
  {
   "attachments": {},
   "cell_type": "markdown",
   "id": "57efcb51",
   "metadata": {},
   "source": [
    "<h1>표준 라이브러리</h1>"
   ]
  },
  {
   "cell_type": "code",
   "execution_count": 1,
   "id": "29faf71c",
   "metadata": {},
   "outputs": [
    {
     "data": {
      "text/plain": [
       "17"
      ]
     },
     "execution_count": 1,
     "metadata": {},
     "output_type": "execute_result"
    }
   ],
   "source": [
    "#datetime\n",
    "import datetime\n",
    "day1 = datetime.date(2023,6,10)\n",
    "day2 = datetime.date(2023,6,27)\n",
    "\n",
    "diff = day2 - day1\n",
    "diff.days"
   ]
  },
  {
   "cell_type": "code",
   "execution_count": 2,
   "id": "8a617133",
   "metadata": {},
   "outputs": [
    {
     "data": {
      "text/plain": [
       "5"
      ]
     },
     "execution_count": 2,
     "metadata": {},
     "output_type": "execute_result"
    }
   ],
   "source": [
    "day = datetime.date(2023,6,10)\n",
    "day.weekday()#0은 월요일 1은 화요일이되며 순서대로 가서 6은 일요일이 된다."
   ]
  },
  {
   "cell_type": "code",
   "execution_count": 3,
   "id": "eb4266c2",
   "metadata": {},
   "outputs": [
    {
     "data": {
      "text/plain": [
       "6"
      ]
     },
     "execution_count": 3,
     "metadata": {},
     "output_type": "execute_result"
    }
   ],
   "source": [
    "day.isoweekday()#1은 월요일로 시작하여 7이 일요일로 끝난다."
   ]
  },
  {
   "cell_type": "code",
   "execution_count": 4,
   "id": "5d77779b",
   "metadata": {},
   "outputs": [
    {
     "data": {
      "text/plain": [
       "1686668544.7470326"
      ]
     },
     "execution_count": 4,
     "metadata": {},
     "output_type": "execute_result"
    }
   ],
   "source": [
    "#time\n",
    "import time\n",
    "time.time() #UTC를 사용해 현재시간을 리턴함.  1970년1월1일0시0분0초를 기준으로 지난 시간을 초단위로 알려준다."
   ]
  },
  {
   "cell_type": "code",
   "execution_count": 5,
   "id": "37e85a59",
   "metadata": {},
   "outputs": [
    {
     "name": "stdout",
     "output_type": "stream",
     "text": [
      "0\n",
      "1\n",
      "2\n",
      "3\n",
      "4\n",
      "5\n",
      "6\n",
      "7\n",
      "8\n",
      "9\n"
     ]
    }
   ],
   "source": [
    "import time\n",
    "for i in range(10):\n",
    "    print(i)\n",
    "    time.sleep(1) #0부터 9까지 실행하는 함수에 1초의 간격으로 실행하도록 간격을 줄수있다."
   ]
  },
  {
   "cell_type": "code",
   "execution_count": 6,
   "id": "89774536",
   "metadata": {},
   "outputs": [
    {
     "data": {
      "text/plain": [
       "20"
      ]
     },
     "execution_count": 6,
     "metadata": {},
     "output_type": "execute_result"
    }
   ],
   "source": [
    "#math\n",
    "import math\n",
    "math.gcd(60,100,80) #최대공약수 구하기"
   ]
  },
  {
   "cell_type": "code",
   "execution_count": 7,
   "id": "901024f8",
   "metadata": {},
   "outputs": [
    {
     "data": {
      "text/plain": [
       "75"
      ]
     },
     "execution_count": 7,
     "metadata": {},
     "output_type": "execute_result"
    }
   ],
   "source": [
    "math.lcm(15,25)#최소공배수 구하기"
   ]
  },
  {
   "cell_type": "code",
   "execution_count": 8,
   "id": "5163e118",
   "metadata": {},
   "outputs": [
    {
     "data": {
      "text/plain": [
       "0.13214000646580426"
      ]
     },
     "execution_count": 8,
     "metadata": {},
     "output_type": "execute_result"
    }
   ],
   "source": [
    "#random\n",
    "import random\n",
    "random.random()#0.0~1.0사이의 난수 값을 줌"
   ]
  },
  {
   "cell_type": "code",
   "execution_count": 9,
   "id": "e53b2162",
   "metadata": {},
   "outputs": [
    {
     "data": {
      "text/plain": [
       "1"
      ]
     },
     "execution_count": 9,
     "metadata": {},
     "output_type": "execute_result"
    }
   ],
   "source": [
    "random.randint(1,10) #1~10사이의 난수"
   ]
  },
  {
   "cell_type": "code",
   "execution_count": 10,
   "id": "73b21adf",
   "metadata": {},
   "outputs": [
    {
     "data": {
      "text/plain": [
       "5"
      ]
     },
     "execution_count": 10,
     "metadata": {},
     "output_type": "execute_result"
    }
   ],
   "source": [
    "random.randint(5,55) #5~55사이의 난수"
   ]
  },
  {
   "cell_type": "code",
   "execution_count": 11,
   "id": "1fd2c939",
   "metadata": {},
   "outputs": [
    {
     "name": "stdout",
     "output_type": "stream",
     "text": [
      "2\n"
     ]
    }
   ],
   "source": [
    "def random_pop(data):\n",
    "    number = random.randint(0,len(data)-1)\n",
    "    return data.pop(number)\n",
    "if __name__==\"__main__\":\n",
    "    data = [1,2,3,4,5]\n",
    "    print(random_pop(data))\n",
    "#리스트안에 있는 요소중 무작위로 하나를 선택하여 꺼내 그 값을 리턴한다."
   ]
  },
  {
   "cell_type": "code",
   "execution_count": 12,
   "id": "eb96407a",
   "metadata": {},
   "outputs": [
    {
     "name": "stdout",
     "output_type": "stream",
     "text": [
      "hello 1\n"
     ]
    }
   ],
   "source": [
    "i = random.randint(1,10)\n",
    "\n",
    "while 0 < i:\n",
    "    print(\"hello {0}\".format(i))\n",
    "    i = i -1\n",
    "#난수만큼 출력을 반복한다."
   ]
  },
  {
   "cell_type": "code",
   "execution_count": 13,
   "id": "fa8b9ea2",
   "metadata": {},
   "outputs": [
    {
     "data": {
      "text/plain": [
       "[4, 5, 2, 1, 3]"
      ]
     },
     "execution_count": 13,
     "metadata": {},
     "output_type": "execute_result"
    }
   ],
   "source": [
    "a = [1,2,3,4,5]\n",
    "random.sample(a,len(a))\n",
    "#릴스트 a에서 a의 원소 개수만큼 무작위로 추출한다."
   ]
  },
  {
   "cell_type": "code",
   "execution_count": 14,
   "id": "8b6229bc",
   "metadata": {},
   "outputs": [
    {
     "name": "stdout",
     "output_type": "stream",
     "text": [
      "[('탑', '클레드'), ('정글러', '에코'), ('미드', '벡스'), ('바텀', '징크스'), ('서포터', '모르가나')]\n"
     ]
    }
   ],
   "source": [
    "line = ['탑', '정글러','미드','바텀','서포터']\n",
    "champ = ['클레드','에코','벡스','징크스','모르가나']\n",
    "game = zip(line, champ)\n",
    "print(list(game))"
   ]
  },
  {
   "cell_type": "code",
   "execution_count": 15,
   "id": "b5997164",
   "metadata": {},
   "outputs": [
    {
     "name": "stdout",
     "output_type": "stream",
     "text": [
      "[('탑', '클레드'), ('정글러', '에코'), ('미드', '벡스'), ('바텀', '탈주'), ('서포터', '탈주')]\n"
     ]
    }
   ],
   "source": [
    "#itertools\n",
    "import itertools\n",
    "line = ['탑', '정글러','미드','바텀','서포터']\n",
    "champ = ['클레드','에코','벡스']\n",
    "game = itertools.zip_longest(line,champ,fillvalue='탈주')\n",
    "print(list(game))"
   ]
  },
  {
   "cell_type": "code",
   "execution_count": 16,
   "id": "dc146c73",
   "metadata": {},
   "outputs": [
    {
     "data": {
      "text/plain": [
       "[('1', '2'), ('1', '3'), ('2', '1'), ('2', '3'), ('3', '1'), ('3', '2')]"
      ]
     },
     "execution_count": 16,
     "metadata": {},
     "output_type": "execute_result"
    }
   ],
   "source": [
    "list(itertools.permutations(['1','2','3'],2)) #1,2,3을 2개씩 조합하여 만들수있는 모든 경우의 수"
   ]
  },
  {
   "cell_type": "code",
   "execution_count": 17,
   "id": "bea1eb2f",
   "metadata": {},
   "outputs": [
    {
     "name": "stdout",
     "output_type": "stream",
     "text": [
      "(1, 2, 3, 4, 5)\n",
      "(1, 2, 3, 4, 6)\n",
      "(1, 2, 3, 4, 7)\n",
      "(1, 2, 3, 4, 8)\n",
      "(1, 2, 3, 4, 9)\n",
      "(1, 2, 3, 5, 6)\n",
      "(1, 2, 3, 5, 7)\n",
      "(1, 2, 3, 5, 8)\n",
      "(1, 2, 3, 5, 9)\n",
      "(1, 2, 3, 6, 7)\n",
      "(1, 2, 3, 6, 8)\n",
      "(1, 2, 3, 6, 9)\n",
      "(1, 2, 3, 7, 8)\n",
      "(1, 2, 3, 7, 9)\n",
      "(1, 2, 3, 8, 9)\n",
      "(1, 2, 4, 5, 6)\n",
      "(1, 2, 4, 5, 7)\n",
      "(1, 2, 4, 5, 8)\n",
      "(1, 2, 4, 5, 9)\n",
      "(1, 2, 4, 6, 7)\n",
      "(1, 2, 4, 6, 8)\n",
      "(1, 2, 4, 6, 9)\n",
      "(1, 2, 4, 7, 8)\n",
      "(1, 2, 4, 7, 9)\n",
      "(1, 2, 4, 8, 9)\n",
      "(1, 2, 5, 6, 7)\n",
      "(1, 2, 5, 6, 8)\n",
      "(1, 2, 5, 6, 9)\n",
      "(1, 2, 5, 7, 8)\n",
      "(1, 2, 5, 7, 9)\n",
      "(1, 2, 5, 8, 9)\n",
      "(1, 2, 6, 7, 8)\n",
      "(1, 2, 6, 7, 9)\n",
      "(1, 2, 6, 8, 9)\n",
      "(1, 2, 7, 8, 9)\n",
      "(1, 3, 4, 5, 6)\n",
      "(1, 3, 4, 5, 7)\n",
      "(1, 3, 4, 5, 8)\n",
      "(1, 3, 4, 5, 9)\n",
      "(1, 3, 4, 6, 7)\n",
      "(1, 3, 4, 6, 8)\n",
      "(1, 3, 4, 6, 9)\n",
      "(1, 3, 4, 7, 8)\n",
      "(1, 3, 4, 7, 9)\n",
      "(1, 3, 4, 8, 9)\n",
      "(1, 3, 5, 6, 7)\n",
      "(1, 3, 5, 6, 8)\n",
      "(1, 3, 5, 6, 9)\n",
      "(1, 3, 5, 7, 8)\n",
      "(1, 3, 5, 7, 9)\n",
      "(1, 3, 5, 8, 9)\n",
      "(1, 3, 6, 7, 8)\n",
      "(1, 3, 6, 7, 9)\n",
      "(1, 3, 6, 8, 9)\n",
      "(1, 3, 7, 8, 9)\n",
      "(1, 4, 5, 6, 7)\n",
      "(1, 4, 5, 6, 8)\n",
      "(1, 4, 5, 6, 9)\n",
      "(1, 4, 5, 7, 8)\n",
      "(1, 4, 5, 7, 9)\n",
      "(1, 4, 5, 8, 9)\n",
      "(1, 4, 6, 7, 8)\n",
      "(1, 4, 6, 7, 9)\n",
      "(1, 4, 6, 8, 9)\n",
      "(1, 4, 7, 8, 9)\n",
      "(1, 5, 6, 7, 8)\n",
      "(1, 5, 6, 7, 9)\n",
      "(1, 5, 6, 8, 9)\n",
      "(1, 5, 7, 8, 9)\n",
      "(1, 6, 7, 8, 9)\n",
      "(2, 3, 4, 5, 6)\n",
      "(2, 3, 4, 5, 7)\n",
      "(2, 3, 4, 5, 8)\n",
      "(2, 3, 4, 5, 9)\n",
      "(2, 3, 4, 6, 7)\n",
      "(2, 3, 4, 6, 8)\n",
      "(2, 3, 4, 6, 9)\n",
      "(2, 3, 4, 7, 8)\n",
      "(2, 3, 4, 7, 9)\n",
      "(2, 3, 4, 8, 9)\n",
      "(2, 3, 5, 6, 7)\n",
      "(2, 3, 5, 6, 8)\n",
      "(2, 3, 5, 6, 9)\n",
      "(2, 3, 5, 7, 8)\n",
      "(2, 3, 5, 7, 9)\n",
      "(2, 3, 5, 8, 9)\n",
      "(2, 3, 6, 7, 8)\n",
      "(2, 3, 6, 7, 9)\n",
      "(2, 3, 6, 8, 9)\n",
      "(2, 3, 7, 8, 9)\n",
      "(2, 4, 5, 6, 7)\n",
      "(2, 4, 5, 6, 8)\n",
      "(2, 4, 5, 6, 9)\n",
      "(2, 4, 5, 7, 8)\n",
      "(2, 4, 5, 7, 9)\n",
      "(2, 4, 5, 8, 9)\n",
      "(2, 4, 6, 7, 8)\n",
      "(2, 4, 6, 7, 9)\n",
      "(2, 4, 6, 8, 9)\n",
      "(2, 4, 7, 8, 9)\n",
      "(2, 5, 6, 7, 8)\n",
      "(2, 5, 6, 7, 9)\n",
      "(2, 5, 6, 8, 9)\n",
      "(2, 5, 7, 8, 9)\n",
      "(2, 6, 7, 8, 9)\n",
      "(3, 4, 5, 6, 7)\n",
      "(3, 4, 5, 6, 8)\n",
      "(3, 4, 5, 6, 9)\n",
      "(3, 4, 5, 7, 8)\n",
      "(3, 4, 5, 7, 9)\n",
      "(3, 4, 5, 8, 9)\n",
      "(3, 4, 6, 7, 8)\n",
      "(3, 4, 6, 7, 9)\n",
      "(3, 4, 6, 8, 9)\n",
      "(3, 4, 7, 8, 9)\n",
      "(3, 5, 6, 7, 8)\n",
      "(3, 5, 6, 7, 9)\n",
      "(3, 5, 6, 8, 9)\n",
      "(3, 5, 7, 8, 9)\n",
      "(3, 6, 7, 8, 9)\n",
      "(4, 5, 6, 7, 8)\n",
      "(4, 5, 6, 7, 9)\n",
      "(4, 5, 6, 8, 9)\n",
      "(4, 5, 7, 8, 9)\n",
      "(4, 6, 7, 8, 9)\n",
      "(5, 6, 7, 8, 9)\n"
     ]
    }
   ],
   "source": [
    "a = itertools.combinations(range(1,10),5)\n",
    "for num in a:\n",
    "    print(num)\n",
    "#1~10가지 수중 5개를 뽑을수 있는 경우의 수 출력"
   ]
  },
  {
   "cell_type": "code",
   "execution_count": 18,
   "id": "119c15c6",
   "metadata": {},
   "outputs": [
    {
     "data": {
      "text/plain": [
       "126"
      ]
     },
     "execution_count": 18,
     "metadata": {},
     "output_type": "execute_result"
    }
   ],
   "source": [
    "len(list(itertools.combinations(range(1,10),5))) #경우의 수 개수로 출력"
   ]
  },
  {
   "cell_type": "code",
   "execution_count": 19,
   "id": "2b733421",
   "metadata": {},
   "outputs": [
    {
     "name": "stdout",
     "output_type": "stream",
     "text": [
      "15\n"
     ]
    }
   ],
   "source": [
    "#functools\n",
    "import functools\n",
    "a = [1,2,3,4,5]\n",
    "result = functools.reduce(lambda x, y: x + y, a)\n",
    "print(result)\n",
    "#a의 요소들을 모두 더한다."
   ]
  },
  {
   "cell_type": "code",
   "execution_count": 20,
   "id": "ad54830a",
   "metadata": {},
   "outputs": [
    {
     "name": "stdout",
     "output_type": "stream",
     "text": [
      "8\n"
     ]
    }
   ],
   "source": [
    "num = [5,4,6,3,8,7]\n",
    "max = functools.reduce(lambda x, y : x if x > y else y, num)\n",
    "print(max) #최대값 구하기"
   ]
  },
  {
   "cell_type": "code",
   "execution_count": 21,
   "id": "8bdb9b14",
   "metadata": {},
   "outputs": [
    {
     "name": "stdout",
     "output_type": "stream",
     "text": [
      "[('eco', 17, 'B'), ('david', 22, 'A'), ('rucy', 32, 'B')]\n"
     ]
    }
   ],
   "source": [
    "from operator import itemgetter\n",
    "student = [\n",
    "    (\"david\", 22, 'A'),\n",
    "    (\"rucy\", 32, 'B'),\n",
    "    (\"eco\", 17, 'B'),\n",
    "]\n",
    "\n",
    "result = sorted(student, key=itemgetter(1))\n",
    "print(result)"
   ]
  },
  {
   "cell_type": "code",
   "execution_count": 23,
   "id": "14d00ed1",
   "metadata": {},
   "outputs": [
    {
     "name": "stdout",
     "output_type": "stream",
     "text": [
      "[{'name': 'David', 'age': 18, 'implant': 'Sandevistan'}, {'name': 'Lucy', 'age': 20, 'implant': 'monowire'}, {'name': 'Rebecca', 'age': 20, 'implant': 'carnage shotgun'}]\n"
     ]
    }
   ],
   "source": [
    "runner = [\n",
    "    {\"name\": \"David\", \"age\": 18, \"implant\" : \"Sandevistan\"},\n",
    "    {\"name\": \"Lucy\", \"age\": 20, \"implant\" : \"monowire\"},\n",
    "    {\"name\": \"Rebecca\", \"age\": 20, \"implant\" : \"carnage shotgun\"},\n",
    "]\n",
    "result = sorted(runner, key=itemgetter('age'))\n",
    "print(result)"
   ]
  }
 ],
 "metadata": {
  "kernelspec": {
   "display_name": "Python 3 (ipykernel)",
   "language": "python",
   "name": "python3"
  },
  "language_info": {
   "codemirror_mode": {
    "name": "ipython",
    "version": 3
   },
   "file_extension": ".py",
   "mimetype": "text/x-python",
   "name": "python",
   "nbconvert_exporter": "python",
   "pygments_lexer": "ipython3",
   "version": "3.11.3"
  }
 },
 "nbformat": 4,
 "nbformat_minor": 5
}
