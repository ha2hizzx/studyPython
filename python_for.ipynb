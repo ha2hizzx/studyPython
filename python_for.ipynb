{
 "cells": [
  {
   "cell_type": "markdown",
   "id": "c585078e",
   "metadata": {},
   "source": [
    "<h1>반복문 for</h1>"
   ]
  },
  {
   "cell_type": "code",
   "execution_count": 1,
   "id": "622ecd37",
   "metadata": {},
   "outputs": [
    {
     "name": "stdout",
     "output_type": "stream",
     "text": [
      "one\n",
      "two\n",
      "three\n"
     ]
    }
   ],
   "source": [
    "arr = ['one', 'two', 'three'] #변수 arr\n",
    "for i in arr: #for문의 기본구조\n",
    "    print(i) #수행할 문장"
   ]
  },
  {
   "cell_type": "code",
   "execution_count": 4,
   "id": "ddcb9e12",
   "metadata": {},
   "outputs": [
    {
     "name": "stdout",
     "output_type": "stream",
     "text": [
      "-3\n",
      "1\n",
      "3\n"
     ]
    }
   ],
   "source": [
    "arr = [(2, 5), (3, 2), (9, 6)]\n",
    "for (a, b) in arr: #arr 안에 소괄호 안의 처음 수를 a, 두번째 수를 b로한다. \n",
    "    print(a - b) #a - b를 출력"
   ]
  },
  {
   "cell_type": "code",
   "execution_count": 11,
   "id": "caa4e3d9",
   "metadata": {
    "scrolled": true
   },
   "outputs": [
    {
     "name": "stdout",
     "output_type": "stream",
     "text": [
      "1 번은 패배..\n",
      "2 번은 패배..\n",
      "3 번은 패배..\n",
      "4 번은 우승!\n",
      "5 번은 우승!\n"
     ]
    }
   ],
   "source": [
    "score = [10, 20, 30, 40, 50]\n",
    "number = 0\n",
    "for a in score:\n",
    "    number+=1 #number에 1 더하기\n",
    "    if a > 30: #만약 a(score)가 30보다 크다면\n",
    "        print(\"%d 번은 우승!\" % number)\n",
    "    else:\n",
    "        print(\"%d 번은 패배..\" % number)"
   ]
  },
  {
   "cell_type": "code",
   "execution_count": 16,
   "id": "987a9a7f",
   "metadata": {},
   "outputs": [
    {
     "name": "stdout",
     "output_type": "stream",
     "text": [
      "HP : 50\n",
      "HP : 46\n",
      "HP : 32\n",
      "HP : 24\n",
      "HP : 80\n"
     ]
    }
   ],
   "source": [
    "#continue\n",
    "hp = [50, 46, 32, 24, 18, 80]\n",
    "for a in hp:\n",
    "    if a > 20:\n",
    "        print(\"HP : %d\" % a)\n",
    "    else:\n",
    "        continue #a가 18일때 continue가 실행되어 뒤에있는 print문을 수행하지 않고 for문 처음으로 돌아간다.\n",
    "        print(\"캐릭터가 사망했습니다.\")"
   ]
  },
  {
   "cell_type": "markdown",
   "id": "5af01e39",
   "metadata": {},
   "source": [
    "<h1>range</h1>"
   ]
  },
  {
   "cell_type": "code",
   "execution_count": 18,
   "id": "b81b39a0",
   "metadata": {},
   "outputs": [
    {
     "name": "stdout",
     "output_type": "stream",
     "text": [
      "range(0, 10)\n"
     ]
    }
   ],
   "source": [
    "#range 함수\n",
    "a = range(10) # 0이상 10미만의 숫자를 포함하는 rqnge 객체 생성\n",
    "print(a)"
   ]
  },
  {
   "cell_type": "code",
   "execution_count": 19,
   "id": "1c0459df",
   "metadata": {},
   "outputs": [
    {
     "name": "stdout",
     "output_type": "stream",
     "text": [
      "2\n",
      "5\n",
      "9\n",
      "14\n",
      "20\n",
      "27\n"
     ]
    }
   ],
   "source": [
    "a = range(2, 8) #2이상 9미만 시작숫자와 끝 숫자를 지정할수있다.\n",
    "add = 0\n",
    "for i in a:\n",
    "    add = add + i\n",
    "    print(add)"
   ]
  },
  {
   "cell_type": "markdown",
   "id": "ff0377cb",
   "metadata": {},
   "source": [
    "<h1>len</h1>"
   ]
  },
  {
   "cell_type": "code",
   "execution_count": 21,
   "id": "3924fcf7",
   "metadata": {},
   "outputs": [
    {
     "name": "stdout",
     "output_type": "stream",
     "text": [
      "2번은 우승입니다.\n",
      "6번은 우승입니다.\n",
      "7번은 우승입니다.\n",
      "8번은 우승입니다.\n"
     ]
    }
   ],
   "source": [
    "#len함수는 리스트 안의 요소 개수를 돌려주는 함수이다.\n",
    "arr = [35, 80, 20, 34, 12, 53, 69, 54]\n",
    "for number in range(len(arr)): #len(arr)은 8개이고 range(8)이 된다.\n",
    "    if arr[number] < 50: #arr리스트에서 number번째가 50보다 작을 경우\n",
    "        continue \n",
    "    print(\"%d번은 우승입니다.\" %(number +1)) #number은 0부터 8까지이기 때문에 +1을 하여 실행"
   ]
  },
  {
   "cell_type": "markdown",
   "id": "f1714d10",
   "metadata": {},
   "source": [
    "<h1>구구단</h1>"
   ]
  },
  {
   "cell_type": "code",
   "execution_count": 32,
   "id": "83356ca6",
   "metadata": {},
   "outputs": [
    {
     "name": "stdout",
     "output_type": "stream",
     "text": [
      "1 * 1 = 1\n",
      "1 * 2 = 2\n",
      "1 * 3 = 3\n",
      "1 * 4 = 4\n",
      "1 * 5 = 5\n",
      "1 * 6 = 6\n",
      "1 * 7 = 7\n",
      "1 * 8 = 8\n",
      "1 * 9 = 9\n",
      "\n",
      "2 * 1 = 2\n",
      "2 * 2 = 4\n",
      "2 * 3 = 6\n",
      "2 * 4 = 8\n",
      "2 * 5 = 10\n",
      "2 * 6 = 12\n",
      "2 * 7 = 14\n",
      "2 * 8 = 16\n",
      "2 * 9 = 18\n",
      "\n",
      "3 * 1 = 3\n",
      "3 * 2 = 6\n",
      "3 * 3 = 9\n",
      "3 * 4 = 12\n",
      "3 * 5 = 15\n",
      "3 * 6 = 18\n",
      "3 * 7 = 21\n",
      "3 * 8 = 24\n",
      "3 * 9 = 27\n",
      "\n",
      "4 * 1 = 4\n",
      "4 * 2 = 8\n",
      "4 * 3 = 12\n",
      "4 * 4 = 16\n",
      "4 * 5 = 20\n",
      "4 * 6 = 24\n",
      "4 * 7 = 28\n",
      "4 * 8 = 32\n",
      "4 * 9 = 36\n",
      "\n",
      "5 * 1 = 5\n",
      "5 * 2 = 10\n",
      "5 * 3 = 15\n",
      "5 * 4 = 20\n",
      "5 * 5 = 25\n",
      "5 * 6 = 30\n",
      "5 * 7 = 35\n",
      "5 * 8 = 40\n",
      "5 * 9 = 45\n",
      "\n",
      "6 * 1 = 6\n",
      "6 * 2 = 12\n",
      "6 * 3 = 18\n",
      "6 * 4 = 24\n",
      "6 * 5 = 30\n",
      "6 * 6 = 36\n",
      "6 * 7 = 42\n",
      "6 * 8 = 48\n",
      "6 * 9 = 54\n",
      "\n",
      "7 * 1 = 7\n",
      "7 * 2 = 14\n",
      "7 * 3 = 21\n",
      "7 * 4 = 28\n",
      "7 * 5 = 35\n",
      "7 * 6 = 42\n",
      "7 * 7 = 49\n",
      "7 * 8 = 56\n",
      "7 * 9 = 63\n",
      "\n",
      "8 * 1 = 8\n",
      "8 * 2 = 16\n",
      "8 * 3 = 24\n",
      "8 * 4 = 32\n",
      "8 * 5 = 40\n",
      "8 * 6 = 48\n",
      "8 * 7 = 56\n",
      "8 * 8 = 64\n",
      "8 * 9 = 72\n",
      "\n",
      "9 * 1 = 9\n",
      "9 * 2 = 18\n",
      "9 * 3 = 27\n",
      "9 * 4 = 36\n",
      "9 * 5 = 45\n",
      "9 * 6 = 54\n",
      "9 * 7 = 63\n",
      "9 * 8 = 72\n",
      "9 * 9 = 81\n",
      "\n"
     ]
    }
   ],
   "source": [
    "for i in range(1,10): # i 가 1일때 j가 1~9까지 흐른뒤 i가 2가 되면 다시 j가 1~9까지 흐르는 형식\n",
    "    for j in range(1, 10):\n",
    "        print(i, \"*\", j, \"=\", i*j)\n",
    "    print('')"
   ]
  },
  {
   "cell_type": "markdown",
   "id": "8d35492b",
   "metadata": {},
   "source": [
    "<h1>리스트 컴프리헨션</h1>"
   ]
  },
  {
   "cell_type": "code",
   "execution_count": 35,
   "id": "8e16c85b",
   "metadata": {},
   "outputs": [
    {
     "name": "stdout",
     "output_type": "stream",
     "text": [
      "[3, 6, 9, 12, 15]\n"
     ]
    }
   ],
   "source": [
    "arr = [1,2,3,4,5] #리스트안에 for문을 포함하는 리스트 컨프리헨션이다.\n",
    "result = []\n",
    "for a in arr:\n",
    "    result.append(a*3) #arr리스트의 각 항목에 3을 곱한 결과를 result에 담은 것이다.\n",
    "    \n",
    "print(result)"
   ]
  },
  {
   "cell_type": "code",
   "execution_count": 36,
   "id": "9f4dc704",
   "metadata": {},
   "outputs": [
    {
     "name": "stdout",
     "output_type": "stream",
     "text": [
      "[3, 6, 9, 12, 15]\n"
     ]
    }
   ],
   "source": [
    "arr = [1,2,3,4,5]\n",
    "result = [a * 3 for a in arr]\n",
    "print(result)"
   ]
  },
  {
   "cell_type": "code",
   "execution_count": 38,
   "id": "90bc654e",
   "metadata": {},
   "outputs": [
    {
     "name": "stdout",
     "output_type": "stream",
     "text": [
      "[6, 12]\n"
     ]
    }
   ],
   "source": [
    "#if를 붙여 리스트 컴프리헨션에 조건을 걸수도 있다.\n",
    "arr = [1,2,3,4,5]\n",
    "result = [a * 3 for a in arr if a %2 ==0] # 짝수에만 3을 곱하여 담는다.\n",
    "print(result)"
   ]
  },
  {
   "cell_type": "code",
   "execution_count": 40,
   "id": "ef64d31e",
   "metadata": {},
   "outputs": [
    {
     "name": "stdout",
     "output_type": "stream",
     "text": [
      "[1, 2, 3, 4, 5, 6, 7, 8, 9, 2, 4, 6, 8, 10, 12, 14, 16, 18, 3, 6, 9, 12, 15, 18, 21, 24, 27, 4, 8, 12, 16, 20, 24, 28, 32, 36, 5, 10, 15, 20, 25, 30, 35, 40, 45, 6, 12, 18, 24, 30, 36, 42, 48, 54, 7, 14, 21, 28, 35, 42, 49, 56, 63, 8, 16, 24, 32, 40, 48, 56, 64, 72, 9, 18, 27, 36, 45, 54, 63, 72, 81]\n"
     ]
    }
   ],
   "source": [
    "#리스트 컴프리헨션을 이용한 간단한 구구단\n",
    "result = [x * y for x in range(1,10) for y in range(1,10)]\n",
    "print(result)"
   ]
  }
 ],
 "metadata": {
  "kernelspec": {
   "display_name": "Python 3 (ipykernel)",
   "language": "python",
   "name": "python3"
  },
  "language_info": {
   "codemirror_mode": {
    "name": "ipython",
    "version": 3
   },
   "file_extension": ".py",
   "mimetype": "text/x-python",
   "name": "python",
   "nbconvert_exporter": "python",
   "pygments_lexer": "ipython3",
   "version": "3.10.9"
  }
 },
 "nbformat": 4,
 "nbformat_minor": 5
}
