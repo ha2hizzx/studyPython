{
 "cells": [
  {
   "attachments": {},
   "cell_type": "markdown",
   "id": "06df45e5",
   "metadata": {},
   "source": [
    "<h1>파일 생성하기</h1>"
   ]
  },
  {
   "cell_type": "code",
   "execution_count": 1,
   "id": "59b6e9ba",
   "metadata": {},
   "outputs": [],
   "source": [
    "a = open(\"file.tet\", 'w') #open함수는 \"파일이름\"과 \"파일 열기 모드\"를 입력값으로 받고 결괏값으로 파일 객체를 리턴한다.\n",
    "a.close() #파일객체를 자동으로 닫아준다.\n",
    "#파일 열리모드는 r:읽기모드   w:쓰기모드   a:추가모드  가있다."
   ]
  },
  {
   "cell_type": "code",
   "execution_count": null,
   "id": "592011be",
   "metadata": {},
   "outputs": [],
   "source": [
    "#파일 쓰기 모드로 열어 내용 쓰기\n",
    "#writedata.py\n",
    "a = open(\"c:/doit/새파일.txt\", 'w')\n",
    "for i in range(1, 11):\n",
    "    data = \"%d번째 줄입니다.\\n\"% i\n",
    "    a.write(data) #파일에 데이터 적는다\n",
    "a.close()"
   ]
  },
  {
   "cell_type": "code",
   "execution_count": 2,
   "id": "5d4d57db",
   "metadata": {},
   "outputs": [
    {
     "name": "stdout",
     "output_type": "stream",
     "text": [
      "1번째 줄입니다.\n",
      "\n",
      "2번째 줄입니다.\n",
      "\n",
      "3번째 줄입니다.\n",
      "\n",
      "4번째 줄입니다.\n",
      "\n",
      "5번째 줄입니다.\n",
      "\n",
      "6번째 줄입니다.\n",
      "\n",
      "7번째 줄입니다.\n",
      "\n",
      "8번째 줄입니다.\n",
      "\n",
      "9번째 줄입니다.\n",
      "\n",
      "10번째 줄입니다.\n",
      "\n"
     ]
    }
   ],
   "source": [
    "for i in range(1, 11):\n",
    "    data = \"%d번째 줄입니다.\\n\" % i\n",
    "    print(data) #모니터 화면에 데이터를출력"
   ]
  },
  {
   "cell_type": "code",
   "execution_count": null,
   "id": "474c629b",
   "metadata": {},
   "outputs": [],
   "source": [
    "#무란 루프 안에서 파일을 계속 한줄씩 읽어서 더이상 읽을 줄이 없다면 break를 실행한다.\n",
    "# readline_all.py\n",
    "a = open(\"C:/doit/새파일.txt\", 'r')\n",
    "while True:\n",
    "    line = a.readline()\n",
    "    if not line: break\n",
    "    print(line)\n",
    "a.close()"
   ]
  },
  {
   "cell_type": "code",
   "execution_count": null,
   "id": "7389ec6d",
   "metadata": {},
   "outputs": [],
   "source": [
    "#파일의 모든 줄을 읽어서 각각의 줄을 요소로 갖는 리스트를 리턴한다.\n",
    "#readlines\n",
    "a = open(\"C:/doit/새파일.txt\", 'r')\n",
    "lines = a.readlines()\n",
    "for line in lines:\n",
    "    print(line)\n",
    "a.close()"
   ]
  },
  {
   "cell_type": "code",
   "execution_count": null,
   "id": "a1249e04",
   "metadata": {},
   "outputs": [],
   "source": [
    "#read\n",
    "a = open(\"C:/doit/새파일.txt\", 'r')\n",
    "data = a.read()\n",
    "print(data)\n",
    "a.close()"
   ]
  }
 ],
 "metadata": {
  "kernelspec": {
   "display_name": "Python 3 (ipykernel)",
   "language": "python",
   "name": "python3"
  },
  "language_info": {
   "codemirror_mode": {
    "name": "ipython",
    "version": 3
   },
   "file_extension": ".py",
   "mimetype": "text/x-python",
   "name": "python",
   "nbconvert_exporter": "python",
   "pygments_lexer": "ipython3",
   "version": "3.10.9"
  }
 },
 "nbformat": 4,
 "nbformat_minor": 5
}
