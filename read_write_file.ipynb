{
 "cells": [
  {
   "cell_type": "markdown",
   "id": "06df45e5",
   "metadata": {},
   "source": [
    "<h1>파일 생성하기</h1>"
   ]
  },
  {
   "cell_type": "code",
   "execution_count": 1,
   "id": "59b6e9ba",
   "metadata": {},
   "outputs": [],
   "source": [
    "f = open(\"file.tet\", 'w') #open함수는 \"파일이름\"과 \"파일 열기 모드\"를 입력값으로 받고 결괏값으로 파일 객체를 리턴한다.\n",
    "f.close() #파일객체를 자동으로 닫아준다.\n",
    "#파일 열리모드는 r:읽기모드   w:쓰기모드   a:추가모드  가있다."
   ]
  },
  {
   "cell_type": "code",
   "execution_count": null,
   "id": "592011be",
   "metadata": {},
   "outputs": [],
   "source": []
  }
 ],
 "metadata": {
  "kernelspec": {
   "display_name": "Python 3 (ipykernel)",
   "language": "python",
   "name": "python3"
  },
  "language_info": {
   "codemirror_mode": {
    "name": "ipython",
    "version": 3
   },
   "file_extension": ".py",
   "mimetype": "text/x-python",
   "name": "python",
   "nbconvert_exporter": "python",
   "pygments_lexer": "ipython3",
   "version": "3.10.9"
  }
 },
 "nbformat": 4,
 "nbformat_minor": 5
}
