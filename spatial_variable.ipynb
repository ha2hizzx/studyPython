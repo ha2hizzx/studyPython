{
 "cells": [
  {
   "cell_type": "markdown",
   "id": "cc50766b",
   "metadata": {},
   "source": [
    "<h1>python 공간변수</h1>"
   ]
  },
  {
   "cell_type": "code",
   "execution_count": 5,
   "id": "a0ea2ff5",
   "metadata": {},
   "outputs": [],
   "source": [
    "a = 1\n",
    "b = \"python\"\n",
    "c = [1,2,3]\n",
    "#다른 프로그래밍 언어인 c나 Java는 변수를 만들때 자료형의 타입을 지정해줘야 하지만 python은 자동으로 지정해 준다."
   ]
  },
  {
   "cell_type": "code",
   "execution_count": 6,
   "id": "807ef7f9",
   "metadata": {},
   "outputs": [
    {
     "data": {
      "text/plain": [
       "3208277251904"
      ]
     },
     "execution_count": 6,
     "metadata": {},
     "output_type": "execute_result"
    }
   ],
   "source": [
    "a = [1,2,3] #이렇게 a의 변수를 지정하였을 때 이 리스트 데이터(객체)가 자동으로 메모리에 생성이 되고 a는 [1,2,3]이 저장된 메모리의 주소를 가리킨다.\n",
    "id(a) #id는 변수가 가리키고 있는 객체의 주소 값을 리턴한다."
   ]
  },
  {
   "cell_type": "code",
   "execution_count": 10,
   "id": "1be92321",
   "metadata": {},
   "outputs": [],
   "source": [
    "a = [1,2,3]\n",
    "b = a[:] #a가 가리키고있는 내용을 새로 [1,2,3]을 만들어 그것과 연결하는것\n",
    "c = [1,2,3]"
   ]
  },
  {
   "cell_type": "code",
   "execution_count": 11,
   "id": "bc8a84f5",
   "metadata": {},
   "outputs": [
    {
     "data": {
      "text/plain": [
       "3208277576896"
      ]
     },
     "execution_count": 11,
     "metadata": {},
     "output_type": "execute_result"
    }
   ],
   "source": [
    "id(a)"
   ]
  },
  {
   "cell_type": "code",
   "execution_count": 8,
   "id": "0e5407db",
   "metadata": {},
   "outputs": [
    {
     "data": {
      "text/plain": [
       "3208277986304"
      ]
     },
     "execution_count": 8,
     "metadata": {},
     "output_type": "execute_result"
    }
   ],
   "source": [
    "id(b)"
   ]
  },
  {
   "cell_type": "code",
   "execution_count": 9,
   "id": "90b0615b",
   "metadata": {},
   "outputs": [
    {
     "data": {
      "text/plain": [
       "3208277986368"
      ]
     },
     "execution_count": 9,
     "metadata": {},
     "output_type": "execute_result"
    }
   ],
   "source": [
    "id(c) "
   ]
  },
  {
   "cell_type": "code",
   "execution_count": 12,
   "id": "c0e16b28",
   "metadata": {},
   "outputs": [],
   "source": [
    "#메모리 공간이 다르기에 값또한 달라진다."
   ]
  },
  {
   "cell_type": "code",
   "execution_count": 14,
   "id": "126ae016",
   "metadata": {},
   "outputs": [],
   "source": [
    "from copy import copy #파이썬 모듈\n",
    "a = [1,2,3]\n",
    "b = copy(a) #a가 가르키고있던 [1,2,3]을 복사한것을 가르킨다."
   ]
  },
  {
   "cell_type": "code",
   "execution_count": 15,
   "id": "a0d8f145",
   "metadata": {},
   "outputs": [
    {
     "data": {
      "text/plain": [
       "False"
      ]
     },
     "execution_count": 15,
     "metadata": {},
     "output_type": "execute_result"
    }
   ],
   "source": [
    "a is b #False가 나온다."
   ]
  },
  {
   "cell_type": "code",
   "execution_count": 17,
   "id": "a5b1d518",
   "metadata": {},
   "outputs": [],
   "source": [
    "a = [1,2,3]\n",
    "b = a.copy()"
   ]
  },
  {
   "cell_type": "code",
   "execution_count": 19,
   "id": "9e433cd2",
   "metadata": {},
   "outputs": [
    {
     "data": {
      "text/plain": [
       "False"
      ]
     },
     "execution_count": 19,
     "metadata": {},
     "output_type": "execute_result"
    }
   ],
   "source": [
    "a is b #똑같이 False가 나온다."
   ]
  },
  {
   "cell_type": "code",
   "execution_count": 21,
   "id": "f98cc37e",
   "metadata": {},
   "outputs": [],
   "source": [
    "a, b = ['hello', 'python'] #튜플로 a, b에 값을 대입할수 있다."
   ]
  },
  {
   "cell_type": "code",
   "execution_count": 22,
   "id": "196a3b98",
   "metadata": {},
   "outputs": [
    {
     "data": {
      "text/plain": [
       "'hello'"
      ]
     },
     "execution_count": 22,
     "metadata": {},
     "output_type": "execute_result"
    }
   ],
   "source": [
    "a"
   ]
  },
  {
   "cell_type": "code",
   "execution_count": 23,
   "id": "555acc6f",
   "metadata": {},
   "outputs": [
    {
     "data": {
      "text/plain": [
       "'python'"
      ]
     },
     "execution_count": 23,
     "metadata": {},
     "output_type": "execute_result"
    }
   ],
   "source": [
    "b"
   ]
  },
  {
   "cell_type": "code",
   "execution_count": 24,
   "id": "9d1fe7ec",
   "metadata": {},
   "outputs": [],
   "source": [
    "[a, b] = ['hello', 'python']"
   ]
  },
  {
   "cell_type": "code",
   "execution_count": 25,
   "id": "26c35322",
   "metadata": {},
   "outputs": [
    {
     "data": {
      "text/plain": [
       "'hello'"
      ]
     },
     "execution_count": 25,
     "metadata": {},
     "output_type": "execute_result"
    }
   ],
   "source": [
    "a"
   ]
  },
  {
   "cell_type": "code",
   "execution_count": 26,
   "id": "ab80cbd7",
   "metadata": {},
   "outputs": [
    {
     "data": {
      "text/plain": [
       "'python'"
      ]
     },
     "execution_count": 26,
     "metadata": {},
     "output_type": "execute_result"
    }
   ],
   "source": [
    "b"
   ]
  },
  {
   "cell_type": "code",
   "execution_count": 27,
   "id": "9f19b5f9",
   "metadata": {},
   "outputs": [],
   "source": [
    "a, b = 'hello', 'python'"
   ]
  },
  {
   "cell_type": "code",
   "execution_count": 28,
   "id": "47529a57",
   "metadata": {},
   "outputs": [
    {
     "data": {
      "text/plain": [
       "'hello'"
      ]
     },
     "execution_count": 28,
     "metadata": {},
     "output_type": "execute_result"
    }
   ],
   "source": [
    "a"
   ]
  },
  {
   "cell_type": "code",
   "execution_count": 29,
   "id": "137277c4",
   "metadata": {},
   "outputs": [
    {
     "data": {
      "text/plain": [
       "'python'"
      ]
     },
     "execution_count": 29,
     "metadata": {},
     "output_type": "execute_result"
    }
   ],
   "source": [
    "b"
   ]
  },
  {
   "cell_type": "code",
   "execution_count": 30,
   "id": "639e41f4",
   "metadata": {},
   "outputs": [],
   "source": [
    "a = b = 'hello' #a의 값을 b에 b의 값을 a에 넣는다."
   ]
  },
  {
   "cell_type": "code",
   "execution_count": 31,
   "id": "6a2250e8",
   "metadata": {},
   "outputs": [
    {
     "data": {
      "text/plain": [
       "'hello'"
      ]
     },
     "execution_count": 31,
     "metadata": {},
     "output_type": "execute_result"
    }
   ],
   "source": [
    "a"
   ]
  },
  {
   "cell_type": "code",
   "execution_count": 32,
   "id": "ee4ab5ab",
   "metadata": {},
   "outputs": [
    {
     "data": {
      "text/plain": [
       "'hello'"
      ]
     },
     "execution_count": 32,
     "metadata": {},
     "output_type": "execute_result"
    }
   ],
   "source": [
    "b"
   ]
  },
  {
   "cell_type": "code",
   "execution_count": 33,
   "id": "d8302725",
   "metadata": {},
   "outputs": [],
   "source": [
    "a = 'hello'\n",
    "b = 'python'"
   ]
  },
  {
   "cell_type": "code",
   "execution_count": 34,
   "id": "b194e807",
   "metadata": {},
   "outputs": [
    {
     "data": {
      "text/plain": [
       "'hello'"
      ]
     },
     "execution_count": 34,
     "metadata": {},
     "output_type": "execute_result"
    }
   ],
   "source": [
    "a"
   ]
  },
  {
   "cell_type": "code",
   "execution_count": 35,
   "id": "bfe44f5a",
   "metadata": {},
   "outputs": [
    {
     "data": {
      "text/plain": [
       "'python'"
      ]
     },
     "execution_count": 35,
     "metadata": {},
     "output_type": "execute_result"
    }
   ],
   "source": [
    "b"
   ]
  },
  {
   "cell_type": "code",
   "execution_count": 36,
   "id": "de4afc58",
   "metadata": {},
   "outputs": [],
   "source": [
    "a,b = b,a #서로의 값을 바꿀수도 있다."
   ]
  },
  {
   "cell_type": "code",
   "execution_count": 37,
   "id": "a8efad76",
   "metadata": {},
   "outputs": [
    {
     "data": {
      "text/plain": [
       "'python'"
      ]
     },
     "execution_count": 37,
     "metadata": {},
     "output_type": "execute_result"
    }
   ],
   "source": [
    "a"
   ]
  },
  {
   "cell_type": "code",
   "execution_count": 38,
   "id": "4600a384",
   "metadata": {},
   "outputs": [
    {
     "data": {
      "text/plain": [
       "'hello'"
      ]
     },
     "execution_count": 38,
     "metadata": {},
     "output_type": "execute_result"
    }
   ],
   "source": [
    "b"
   ]
  }
 ],
 "metadata": {
  "kernelspec": {
   "display_name": "Python 3 (ipykernel)",
   "language": "python",
   "name": "python3"
  },
  "language_info": {
   "codemirror_mode": {
    "name": "ipython",
    "version": 3
   },
   "file_extension": ".py",
   "mimetype": "text/x-python",
   "name": "python",
   "nbconvert_exporter": "python",
   "pygments_lexer": "ipython3",
   "version": "3.10.9"
  }
 },
 "nbformat": 4,
 "nbformat_minor": 5
}
